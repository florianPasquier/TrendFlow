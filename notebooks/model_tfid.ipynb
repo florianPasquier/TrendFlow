{
 "cells": [
  {
   "cell_type": "code",
   "execution_count": null,
   "metadata": {},
   "outputs": [],
   "source": [
    "import pandas as pd\n",
    "import numpy as np\n",
    "import lightgbm as lgb\n",
    "from sklearn.feature_extraction.text import TfidfVectorizer\n",
    "from sklearn.model_selection import train_test_split\n",
    "from sklearn.metrics import mean_absolute_error\n",
    "\n",
    "# Charger les données\n",
    "df_sales = pd.read_csv('historical_sales.csv')  # Données de ventes\n",
    "df_trends = pd.read_csv('social_media_trends.csv')  # Tendances des réseaux sociaux\n",
    "df_products = pd.read_csv('new_products_catalog.csv')  # Nouveaux produits\n",
    "\n",
    "# Agréger les données de vente\n",
    "sales_agg = df_sales.groupby('product_id').agg({'sales': 'sum'}).reset_index()\n",
    "\n",
    "#Nettoyage et transformation des tendances\n",
    "tfidf = TfidfVectorizer(stop_words='english', max_features=100)\n",
    "trend_vectors = tfidf.fit_transform(df_trends['trend_keywords'])\n",
    "\n",
    "# Encodage des produits\n",
    "product_vectors = tfidf.transform(df_products['product_description'])\n",
    "\n",
    "# Création des features en faisant correspondre tendances et produits\n",
    "from sklearn.metrics.pairwise import cosine_similarity\n",
    "\n",
    "similarity_scores = cosine_similarity(product_vectors, trend_vectors)\n",
    "trend_match_score = np.max(similarity_scores, axis=1)  # Meilleur match par produit\n",
    "df_products['trend_match_score'] = trend_match_score\n",
    "\n",
    "# Fusion avec les ventes historiques\n",
    "df_train = df_products.merge(sales_agg, on='product_id', how='left').fillna(0)\n",
    "\n",
    "# Entraînement du modèle\n",
    "X = df_train[['trend_match_score']]\n",
    "y = df_train['sales']\n",
    "X_train, X_test, y_train, y_test = train_test_split(X, y, test_size=0.2, random_state=42)\n",
    "\n",
    "model = lgb.LGBMRegressor()\n",
    "model.fit(X_train, y_train)\n",
    "\n",
    "y_pred = model.predict(X_test)\n",
    "print(f'MAE: {mean_absolute_error(y_test, y_pred)}')\n",
    "\n",
    "# Prédiction des ventes pour les nouveaux produits\n",
    "df_products['predicted_sales'] = model.predict(df_products[['trend_match_score']])\n",
    "\n",
    "# Classement des meilleurs produits\n",
    "df_products = df_products.sort_values(by='predicted_sales', ascending=False)\n",
    "print(df_products[['product_id', 'product_name', 'predicted_sales']].head(10))\n"
   ]
  }
 ],
 "metadata": {
  "language_info": {
   "name": "python"
  }
 },
 "nbformat": 4,
 "nbformat_minor": 2
}
