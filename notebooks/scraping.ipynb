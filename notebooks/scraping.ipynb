{
 "cells": [
  {
   "cell_type": "code",
   "execution_count": null,
   "metadata": {
    "vscode": {
     "languageId": "plaintext"
    }
   },
   "outputs": [],
   "source": [
    "from pytrends.request import TrendReq\n",
    "import pandas as pd\n",
    "\n",
    "# Initialiser pytrends\n",
    "pytrends = TrendReq(hl='fr', tz=360)\n",
    "\n",
    "# Liste de mots-clés pour lesquels vous voulez analyser les tendances\n",
    "keywords = ['produit électronique', 'vêtements', 'accessoires', 'chaussures', 'cosmétiques']\n",
    "\n",
    "# Récupérer les tendances de recherche pour les mots-clés\n",
    "pytrends.build_payload(keywords, cat=0, timeframe='today 12-m', geo='', gprop='')\n",
    "\n",
    "# Obtenir l'intérêt au fil du temps\n",
    "interest_over_time_df = pytrends.interest_over_time()\n",
    "\n",
    "# Affichage des résultats\n",
    "print(interest_over_time_df.head())\n",
    "\n",
    "# Sauvegarder les résultats dans un fichier CSV\n",
    "interest_over_time_df.to_csv('google_trends_data.csv')\n",
    "\n",
    "\n",
    "# !pip install TikTok-Api\n",
    "\n",
    "from TikTokApi import TikTokApi\n",
    "\n",
    "# Initialisation de l'API TikTok\n",
    "api = TikTokApi.get_instance()\n",
    "\n",
    "# Exemple de récupération de tendances\n",
    "trending = api.discover_hashtags()\n",
    "\n",
    "# Afficher les tendances populaires\n",
    "for tag in trending:\n",
    "    print(f\"Hashtag: {tag['challengeInfo']['challengeName']}, Popularity: {tag['challengeInfo']['stats']['totalShares']}\")\n"
   ]
  }
 ],
 "metadata": {
  "language_info": {
   "name": "python"
  }
 },
 "nbformat": 4,
 "nbformat_minor": 2
}
