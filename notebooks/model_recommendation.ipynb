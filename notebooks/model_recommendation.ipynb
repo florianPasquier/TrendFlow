{
 "cells": [
  {
   "cell_type": "markdown",
   "metadata": {},
   "source": [
    "# Recommandation de Produits Basée sur les Tendances\n",
    "Ce notebook développe un système de recommandation basé sur le contenu :\n",
    "\n",
    "1. Récupère les mots-clés de tendance et les détails des produits depuis BigQuery.\n",
    "\n",
    "2. Utilise TF-IDF pour vectoriser les données textuelles.\n",
    "\n",
    "3. Calcule la similarité cosinus entre les tendances et les produits.\n",
    "\n",
    "4. Recommande les produits les plus similaires à une tendance donnée."
   ]
  },
  {
   "cell_type": "markdown",
   "metadata": {},
   "source": [
    "# Objectif\n",
    "\n",
    "Recommander des produits qui sont pertinents par rapport à des mots-clés de tendances actuelles.\n",
    "\n",
    "# Approche\n",
    "\n",
    "Il s'agit d'un système de recommandation basé sur le contenu (content-based). L'idée est de trouver les produits dont la description textuelle (nom + catégorie) est la plus similaire aux mots-clés des tendances.\n",
    "\n",
    "# Étapes clés et choix techniques\n",
    "\n",
    "## 1. Récupération des données\n",
    "\n",
    "Les mots-clés des tendances (*trend_id, keyword*) et les informations des produits (*product_id, product_name, category*) sont récupérés depuis des tables BigQuery (*trend_data, new_products*).\n",
    "\n",
    "**Choix :** BigQuery est utilisé comme source de données centralisée et scalable.\n",
    "\n",
    "## 2. Préparation du texte\n",
    "\n",
    "Pour chaque produit, le nom (*product_name*) et la catégorie (*category*) sont combinés en un seul champ texte (*product_text*). Les catégories manquantes sont gérées.\n",
    "\n",
    "**Choix :** Utiliser à la fois le nom et la catégorie enrichit la description textuelle du produit pour une meilleure comparaison sémantique avec les mots-clés des tendances.\n",
    "\n",
    "## 3. Vectorisation avec TF-IDF\n",
    "\n",
    "Le texte des produits (*product_text*) et les mots-clés des tendances (*keyword*) sont transformés en vecteurs numériques à l'aide de TF-IDF (Term Frequency-Inverse Document Frequency).\n",
    "\n",
    "**Choix :**\n",
    "- TF-IDF est une technique standard et efficace pour représenter l'importance des mots dans un corpus.\n",
    "- Elle pondère les mots en fonction de leur fréquence dans un document et de leur rareté dans l'ensemble du corpus, mettant en évidence les termes discriminants.\n",
    "- Les mots courants anglais (*stop words*) sont exclus pour réduire le bruit.\n",
    "- Le vectoriseur est entraîné sur les produits puis utilisé pour transformer les tendances, assurant un espace vectoriel cohérent.\n",
    "\n",
    "## 4. Calcul de Similarité\n",
    "\n",
    "La similarité cosinus est calculée entre chaque vecteur de tendance et chaque vecteur de produit.\n",
    "\n",
    "**Choix :**\n",
    "- La similarité cosinus mesure l'angle entre les vecteurs, ce qui est une métrique robuste pour évaluer la similarité sémantique entre des textes représentés vectoriellement (comme ceux issus de TF-IDF).\n",
    "- Elle est indépendante de la longueur des documents et de la fréquence absolue des termes.\n",
    "\n",
    "## 5. Génération des Recommandations\n",
    "\n",
    "- Pour une tendance donnée (*identifiée par trend_id*), le système récupère la ligne correspondante dans la matrice de similarité.\n",
    "- Les indices des produits ayant les scores de similarité cosinus les plus élevés avec cette tendance sont identifiés.\n",
    "- Les *top_n* produits les plus similaires (*avec un score > 0*) sont retournés, avec leur identifiant, texte combiné et score de similarité.\n",
    "\n",
    "# Résumé\n",
    "\n",
    "Le modèle identifie les produits dont le contenu textuel (*nom + catégorie*) correspond le mieux aux mots-clés d'une tendance donnée, en utilisant **TF-IDF** pour la représentation textuelle et la **similarité cosinus** pour mesurer la pertinence. C'est une approche **classique et interprétable** pour la recommandation basée sur le contenu.\n",
    "\n",
    "\n"
   ]
  },
  {
   "cell_type": "code",
   "execution_count": null,
   "metadata": {},
   "outputs": [],
   "source": []
  },
  {
   "cell_type": "code",
   "execution_count": 15,
   "metadata": {},
   "outputs": [],
   "source": [
    "import pandas as pd\n",
    "from google.cloud import bigquery\n",
    "from sklearn.feature_extraction.text import TfidfVectorizer\n",
    "from sklearn.metrics.pairwise import cosine_similarity\n",
    "import numpy as np\n",
    "from dotenv import load_dotenv  \n",
    "import os\n",
    "\n"
   ]
  },
  {
   "cell_type": "code",
   "execution_count": 16,
   "metadata": {},
   "outputs": [],
   "source": [
    "# --- Configuration ---\n",
    "load_dotenv(\".envrc\")\n",
    "PROJECT_ID = os.getenv(\"PROJECT_ID\")\n",
    "DATASET_NAME = os.getenv(\"DATASET_NAME\")\n",
    "GCS_BUCKET = os.getenv(\"GCS_BUCKET\")\n",
    "TREND_TABLE = f\"{PROJECT_ID}.{DATASET_NAME}.trend_data\"\n",
    "PRODUCT_TABLE = f\"{PROJECT_ID}.{DATASET_NAME}.new_products\"\n",
    "\n",
    "# Initialize BigQuery client\n",
    "# Make sure you are authenticated (e.g., using gcloud auth application-default login)\n",
    "client = bigquery.Client(project=PROJECT_ID)\n"
   ]
  },
  {
   "cell_type": "markdown",
   "metadata": {},
   "source": [
    "## 1. Fetch Data from BigQuery"
   ]
  },
  {
   "cell_type": "code",
   "execution_count": 17,
   "metadata": {},
   "outputs": [],
   "source": [
    "def fetch_data(query):\n",
    "    \"\"\"Executes a BigQuery query and returns a pandas DataFrame.\"\"\"\n",
    "    try:\n",
    "        print(f\"Executing query:\\n{query}\\n\")\n",
    "        query_job = client.query(query)\n",
    "        results = query_job.result()  # Waits for the job to complete\n",
    "        df = results.to_dataframe()\n",
    "        print(f\"Fetched {len(df)} rows.\")\n",
    "        return df\n",
    "    except Exception as e:\n",
    "        print(f\"Error fetching data: {e}\")\n",
    "        return pd.DataFrame() # Return empty DataFrame on error"
   ]
  },
  {
   "cell_type": "code",
   "execution_count": 18,
   "metadata": {},
   "outputs": [
    {
     "name": "stdout",
     "output_type": "stream",
     "text": [
      "Executing query:\n",
      "\n",
      "    SELECT DISTINCT\n",
      "        trend_id,\n",
      "        keyword\n",
      "    FROM `None.None.trend_data`\n",
      "    WHERE keyword IS NOT NULL AND TRIM(keyword) != ''\n",
      "\n",
      "\n",
      "Error fetching data: 400 Invalid project ID 'None'. Project IDs must contain 6-63 lowercase letters, digits, or dashes. Some project IDs also include domain name separated by a colon. IDs must start with a letter and may not end with a dash.; reason: invalid, location: None.None.trend_data, message: Invalid project ID 'None'. Project IDs must contain 6-63 lowercase letters, digits, or dashes. Some project IDs also include domain name separated by a colon. IDs must start with a letter and may not end with a dash.\n",
      "\n",
      "Location: US\n",
      "Job ID: 7c26c7cc-029d-45d5-8943-2369958c3b86\n",
      "\n"
     ]
    },
    {
     "data": {
      "text/html": [
       "<div>\n",
       "<style scoped>\n",
       "    .dataframe tbody tr th:only-of-type {\n",
       "        vertical-align: middle;\n",
       "    }\n",
       "\n",
       "    .dataframe tbody tr th {\n",
       "        vertical-align: top;\n",
       "    }\n",
       "\n",
       "    .dataframe thead th {\n",
       "        text-align: right;\n",
       "    }\n",
       "</style>\n",
       "<table border=\"1\" class=\"dataframe\">\n",
       "  <thead>\n",
       "    <tr style=\"text-align: right;\">\n",
       "      <th></th>\n",
       "    </tr>\n",
       "  </thead>\n",
       "  <tbody>\n",
       "  </tbody>\n",
       "</table>\n",
       "</div>"
      ],
      "text/plain": [
       "Empty DataFrame\n",
       "Columns: []\n",
       "Index: []"
      ]
     },
     "execution_count": 18,
     "metadata": {},
     "output_type": "execute_result"
    }
   ],
   "source": [
    "# Fetch Trends Data (Keywords)\n",
    "trends_query = f\"\"\"\n",
    "    SELECT DISTINCT\n",
    "        trend_id,\n",
    "        keyword\n",
    "    FROM `{TREND_TABLE}`\n",
    "    WHERE keyword IS NOT NULL AND TRIM(keyword) != ''\n",
    "\"\"\"\n",
    "trends_df = fetch_data(trends_query)\n",
    "trends_df.head()"
   ]
  },
  {
   "cell_type": "code",
   "execution_count": 5,
   "metadata": {},
   "outputs": [
    {
     "name": "stdout",
     "output_type": "stream",
     "text": [
      "Executing query:\n",
      "\n",
      "    SELECT DISTINCT\n",
      "        product_id,\n",
      "        product_name,\n",
      "        category\n",
      "    FROM `trendflow-455409.trendflow.new_products`\n",
      "    WHERE product_name IS NOT NULL AND TRIM(product_name) != ''\n",
      "\n",
      "\n"
     ]
    },
    {
     "name": "stderr",
     "output_type": "stream",
     "text": [
      "/home/stephane.ristic/.pyenv/versions/3.10.12/envs/TrendFlow/lib/python3.10/site-packages/google/cloud/bigquery/table.py:1933: UserWarning: BigQuery Storage module not found, fetch data with the REST endpoint instead.\n",
      "  warnings.warn(\n"
     ]
    },
    {
     "name": "stdout",
     "output_type": "stream",
     "text": [
      "Fetched 10200 rows.\n"
     ]
    },
    {
     "data": {
      "text/html": [
       "<div>\n",
       "<style scoped>\n",
       "    .dataframe tbody tr th:only-of-type {\n",
       "        vertical-align: middle;\n",
       "    }\n",
       "\n",
       "    .dataframe tbody tr th {\n",
       "        vertical-align: top;\n",
       "    }\n",
       "\n",
       "    .dataframe thead th {\n",
       "        text-align: right;\n",
       "    }\n",
       "</style>\n",
       "<table border=\"1\" class=\"dataframe\">\n",
       "  <thead>\n",
       "    <tr style=\"text-align: right;\">\n",
       "      <th></th>\n",
       "      <th>product_id</th>\n",
       "      <th>product_text</th>\n",
       "    </tr>\n",
       "  </thead>\n",
       "  <tbody>\n",
       "    <tr>\n",
       "      <th>0</th>\n",
       "      <td>1143393e-26c7-41c6-9df9-0ed70ee96f11</td>\n",
       "      <td>So Beauty</td>\n",
       "    </tr>\n",
       "    <tr>\n",
       "      <th>1</th>\n",
       "      <td>22485cb8-6c5b-43cd-b88b-5fc9f96d8580</td>\n",
       "      <td>Let Beauty</td>\n",
       "    </tr>\n",
       "    <tr>\n",
       "      <th>2</th>\n",
       "      <td>2ba91c1e-6eb7-477c-bac7-5531040f63fd</td>\n",
       "      <td>Another Beauty</td>\n",
       "    </tr>\n",
       "    <tr>\n",
       "      <th>3</th>\n",
       "      <td>345a9399-3e44-4da8-bea5-0d72073a03ab</td>\n",
       "      <td>Hour Beauty</td>\n",
       "    </tr>\n",
       "    <tr>\n",
       "      <th>4</th>\n",
       "      <td>35e1fbd7-cca7-4ea6-8939-13cfcd56118e</td>\n",
       "      <td>Trade Beauty</td>\n",
       "    </tr>\n",
       "  </tbody>\n",
       "</table>\n",
       "</div>"
      ],
      "text/plain": [
       "                             product_id    product_text\n",
       "0  1143393e-26c7-41c6-9df9-0ed70ee96f11       So Beauty\n",
       "1  22485cb8-6c5b-43cd-b88b-5fc9f96d8580      Let Beauty\n",
       "2  2ba91c1e-6eb7-477c-bac7-5531040f63fd  Another Beauty\n",
       "3  345a9399-3e44-4da8-bea5-0d72073a03ab     Hour Beauty\n",
       "4  35e1fbd7-cca7-4ea6-8939-13cfcd56118e    Trade Beauty"
      ]
     },
     "execution_count": 5,
     "metadata": {},
     "output_type": "execute_result"
    }
   ],
   "source": [
    "# Fetch Products Data (Name and Category)\n",
    "products_query = f\"\"\"\n",
    "    SELECT DISTINCT\n",
    "        product_id,\n",
    "        product_name,\n",
    "        category\n",
    "    FROM `{PRODUCT_TABLE}`\n",
    "    WHERE product_name IS NOT NULL AND TRIM(product_name) != ''\n",
    "\"\"\"\n",
    "products_df = fetch_data(products_query)\n",
    "\n",
    "# Combine product name and category into a single text field for vectorization\n",
    "# Handle potential missing categories gracefully\n",
    "products_df['product_text'] = products_df['product_name'] + ' ' + products_df['category'].fillna('')\n",
    "products_df = products_df[['product_id', 'product_text']].dropna(subset=['product_text'])\n",
    "products_df.head()"
   ]
  },
  {
   "cell_type": "markdown",
   "metadata": {},
   "source": [
    "## 2. Vectorize Text Data using TF-IDF"
   ]
  },
  {
   "cell_type": "code",
   "execution_count": 6,
   "metadata": {},
   "outputs": [
    {
     "name": "stdout",
     "output_type": "stream",
     "text": [
      "Product Vectors Shape: (10200, 767)\n",
      "Trend Vectors Shape: (101000, 767)\n"
     ]
    }
   ],
   "source": [
    "# Initialize TF-IDF Vectorizer\n",
    "# Using stop_words='english' to remove common English words\n",
    "vectorizer = TfidfVectorizer(stop_words='english', lowercase=True)\n",
    "\n",
    "# Fit and transform the product descriptions\n",
    "product_vectors = vectorizer.fit_transform(products_df['product_text'])\n",
    "\n",
    "# Transform the trend keywords using the same vectorizer\n",
    "# Note: We only transform trends, don't fit again, to use the product vocabulary\n",
    "trend_vectors = vectorizer.transform(trends_df['keyword'])\n",
    "\n",
    "print(f\"Product Vectors Shape: {product_vectors.shape}\")\n",
    "print(f\"Trend Vectors Shape: {trend_vectors.shape}\")"
   ]
  },
  {
   "cell_type": "markdown",
   "metadata": {},
   "source": [
    "## 3. Calculate Cosine Similarity"
   ]
  },
  {
   "cell_type": "code",
   "execution_count": 7,
   "metadata": {},
   "outputs": [
    {
     "name": "stdout",
     "output_type": "stream",
     "text": [
      "Similarity Matrix Shape: (101000, 10200)\n"
     ]
    }
   ],
   "source": [
    "# Calculate cosine similarity between all trends and all products\n",
    "# Resulting matrix shape: (n_trends, n_products)\n",
    "similarity_matrix = cosine_similarity(trend_vectors, product_vectors)\n",
    "\n",
    "print(f\"Similarity Matrix Shape: {similarity_matrix.shape}\")"
   ]
  },
  {
   "cell_type": "markdown",
   "metadata": {},
   "source": [
    "## 4. Recommendation Function"
   ]
  },
  {
   "cell_type": "code",
   "execution_count": 8,
   "metadata": {},
   "outputs": [],
   "source": [
    "def recommend_products_for_trend(trend_id, top_n=5):\n",
    "    \"\"\"Recommends top N products for a given trend_id.\"\"\"\n",
    "    # Find the index of the trend in our trends_df\n",
    "    trend_indices = trends_df.index[trends_df['trend_id'] == trend_id].tolist()\n",
    "    \n",
    "    if not trend_indices:\n",
    "        # Try matching by keyword if ID not found or multiple IDs exist for keyword\n",
    "        trend_keyword_rows = trends_df[trends_df['trend_id'] == trend_id]\n",
    "        if not trend_keyword_rows.empty:\n",
    "             keyword = trend_keyword_rows['keyword'].iloc[0]\n",
    "             trend_indices = trends_df.index[trends_df['keyword'] == keyword].tolist()\n",
    "             if not trend_indices:\n",
    "                 print(f\"Trend ID {trend_id} or its keyword not found.\")\n",
    "                 return pd.DataFrame()\n",
    "        else:\n",
    "             print(f\"Trend ID {trend_id} not found.\")\n",
    "             return pd.DataFrame()\n",
    "            \n",
    "    # Use the first index found (in case of duplicate keywords/ids)\n",
    "    trend_index = trend_indices[0]\n",
    "    trend_keyword = trends_df.loc[trend_index, 'keyword']\n",
    "    print(f\"Finding recommendations for Trend ID: {trend_id} (Keyword: '{trend_keyword}')\")\n",
    "    \n",
    "    # Get the similarity scores for this trend against all products\n",
    "    similarity_scores = similarity_matrix[trend_index, :]\n",
    "    \n",
    "    # Get the indices of the top N products\n",
    "    # Use argsort to get indices, then reverse and take top N\n",
    "    top_product_indices = np.argsort(similarity_scores)[::-1][:top_n]\n",
    "    \n",
    "    # Get the corresponding product IDs and scores\n",
    "    recommended_products = products_df.iloc[top_product_indices].copy()\n",
    "    recommended_products['similarity_score'] = similarity_scores[top_product_indices]\n",
    "    \n",
    "    # Filter out products with zero similarity\n",
    "    recommended_products = recommended_products[recommended_products['similarity_score'] > 0]\n",
    "    \n",
    "    return recommended_products[['product_id', 'product_text', 'similarity_score']]"
   ]
  },
  {
   "cell_type": "markdown",
   "metadata": {},
   "source": [
    "## 5. Example Usage"
   ]
  },
  {
   "cell_type": "code",
   "execution_count": 9,
   "metadata": {},
   "outputs": [
    {
     "name": "stdout",
     "output_type": "stream",
     "text": [
      "Finding recommendations for Trend ID: 9b21dea8-d653-44df-8111-ccbf012dcd41 (Keyword: 'Mrs')\n",
      "\n",
      "Recommendations:\n",
      "                                product_id       product_text  \\\n",
      "3180  4508e208-dab5-4b7f-9684-92e5adb3c3a6       Mrs Clothing   \n",
      "9252  d53c5d9f-5639-4bcc-9157-35c65c63144d           Mrs Toys   \n",
      "9251  a7aceb63-5234-4077-aacc-260d4931e66d           Mrs Toys   \n",
      "1118  788868b0-b615-4d25-8523-d095f8520657         Mrs Beauty   \n",
      "1117  0f4a5776-8196-4055-92d8-be6a18b21a08         Mrs Beauty   \n",
      "5245  94bdcc6d-3266-474b-a9ce-974f0e32da16    Mrs Electronics   \n",
      "5243  1e8035f5-5175-41e6-bc41-f09ce0f22958    Mrs Electronics   \n",
      "5244  6c352a5e-065b-4e3c-86b3-07ee76c12961    Mrs Electronics   \n",
      "7236  8f87e7a2-6c9e-49df-95b2-ec608b027609  Mrs Home & Garden   \n",
      "7235  8c50171c-d4bc-4b29-ae47-61f4417993bb  Mrs Home & Garden   \n",
      "\n",
      "      similarity_score  \n",
      "3180          0.947699  \n",
      "9252          0.946996  \n",
      "9251          0.946996  \n",
      "1118          0.946850  \n",
      "1117          0.946850  \n",
      "5245          0.946125  \n",
      "5243          0.946125  \n",
      "5244          0.946125  \n",
      "7236          0.899496  \n",
      "7235          0.899496  \n"
     ]
    }
   ],
   "source": [
    "# Example: Get recommendations for the first trend_id in the dataframe\n",
    "if not trends_df.empty:\n",
    "    example_trend_id = trends_df['trend_id'].iloc[0]\n",
    "    recommendations = recommend_products_for_trend(example_trend_id, top_n=10)\n",
    "    print(\"\\nRecommendations:\")\n",
    "    print(recommendations)\n",
    "else:\n",
    "    print(\"No trends data fetched, cannot run example.\")"
   ]
  }
 ],
 "metadata": {
  "kernelspec": {
   "display_name": "TrendFlow",
   "language": "python",
   "name": "python3"
  },
  "language_info": {
   "codemirror_mode": {
    "name": "ipython",
    "version": 3
   },
   "file_extension": ".py",
   "mimetype": "text/x-python",
   "name": "python",
   "nbconvert_exporter": "python",
   "pygments_lexer": "ipython3",
   "version": "3.10.12"
  }
 },
 "nbformat": 4,
 "nbformat_minor": 4
}
