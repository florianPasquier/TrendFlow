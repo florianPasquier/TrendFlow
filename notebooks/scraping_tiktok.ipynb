{
 "cells": [
  {
   "cell_type": "code",
   "execution_count": 1,
   "metadata": {},
   "outputs": [
    {
     "name": "stdout",
     "output_type": "stream",
     "text": [
      "Collecting TikTok-Api\n",
      "  Downloading tiktok-api-0.10.5.tar.gz (3.6 kB)\n",
      "  Preparing metadata (setup.py) ... \u001b[?25ldone\n",
      "\u001b[?25hRequirement already satisfied: requests in /home/stephane.ristic/.pyenv/versions/3.10.12/envs/TrendFlow/lib/python3.10/site-packages (from TikTok-Api) (2.32.3)\n",
      "Requirement already satisfied: tqdm in /home/stephane.ristic/.pyenv/versions/3.10.12/envs/TrendFlow/lib/python3.10/site-packages (from TikTok-Api) (4.67.1)\n",
      "Requirement already satisfied: charset-normalizer<4,>=2 in /home/stephane.ristic/.pyenv/versions/3.10.12/envs/TrendFlow/lib/python3.10/site-packages (from requests->TikTok-Api) (3.4.1)\n",
      "Requirement already satisfied: idna<4,>=2.5 in /home/stephane.ristic/.pyenv/versions/3.10.12/envs/TrendFlow/lib/python3.10/site-packages (from requests->TikTok-Api) (3.10)\n",
      "Requirement already satisfied: urllib3<3,>=1.21.1 in /home/stephane.ristic/.pyenv/versions/3.10.12/envs/TrendFlow/lib/python3.10/site-packages (from requests->TikTok-Api) (2.3.0)\n",
      "Requirement already satisfied: certifi>=2017.4.17 in /home/stephane.ristic/.pyenv/versions/3.10.12/envs/TrendFlow/lib/python3.10/site-packages (from requests->TikTok-Api) (2025.1.31)\n",
      "Building wheels for collected packages: TikTok-Api\n",
      "  Building wheel for TikTok-Api (setup.py) ... \u001b[?25ldone\n",
      "\u001b[?25h  Created wheel for TikTok-Api: filename=tiktok_api-0.10.5-py3-none-any.whl size=3966 sha256=53029b973d4857418021568a55d3f5a8381c7ed19d6592ed5255ff0f86d36394\n",
      "  Stored in directory: /home/stephane.ristic/.cache/pip/wheels/ea/16/e9/3449b7e7cafdcfbb73fba4a9dca6c3b79d9868ef6621a6aac7\n",
      "Successfully built TikTok-Api\n",
      "Installing collected packages: TikTok-Api\n",
      "Successfully installed TikTok-Api-0.10.5\n"
     ]
    }
   ],
   "source": [
    "!pip install -q TikTok-Api"
   ]
  },
  {
   "cell_type": "code",
   "execution_count": 6,
   "metadata": {},
   "outputs": [
    {
     "ename": "AttributeError",
     "evalue": "__enter__",
     "output_type": "error",
     "traceback": [
      "\u001b[0;31m---------------------------------------------------------------------------\u001b[0m",
      "\u001b[0;31mAttributeError\u001b[0m                            Traceback (most recent call last)",
      "Cell \u001b[0;32mIn[6], line 4\u001b[0m\n\u001b[1;32m      1\u001b[0m \u001b[38;5;28;01mfrom\u001b[39;00m\u001b[38;5;250m \u001b[39m\u001b[38;5;21;01mTikTokApi\u001b[39;00m\u001b[38;5;250m \u001b[39m\u001b[38;5;28;01mimport\u001b[39;00m TikTokApi\n\u001b[1;32m      3\u001b[0m \u001b[38;5;66;03m# Initialize the TikTok API\u001b[39;00m\n\u001b[0;32m----> 4\u001b[0m \u001b[38;5;28;01mwith\u001b[39;00m TikTokApi() \u001b[38;5;28;01mas\u001b[39;00m api:\n\u001b[1;32m      5\u001b[0m     \u001b[38;5;66;03m# Example: Retrieve trending videos\u001b[39;00m\n\u001b[1;32m      6\u001b[0m     trending_videos \u001b[38;5;241m=\u001b[39m api\u001b[38;5;241m.\u001b[39mtrending(count\u001b[38;5;241m=\u001b[39m\u001b[38;5;241m10\u001b[39m)\n\u001b[1;32m      8\u001b[0m     \u001b[38;5;66;03m# Display trending video details\u001b[39;00m\n",
      "\u001b[0;31mAttributeError\u001b[0m: __enter__"
     ]
    }
   ],
   "source": [
    "from TikTokApi import TikTokApi\n",
    "\n",
    "# Initialize the TikTok API\n",
    "with TikTokApi() as api:\n",
    "    # Example: Retrieve trending videos\n",
    "    trending_videos = api.trending(count=10)\n",
    "\n",
    "    # Display trending video details\n",
    "    for video in trending_videos:\n",
    "        print(f\"Username: {video['author']['uniqueId']}, Video ID: {video['id']}\")"
   ]
  }
 ],
 "metadata": {
  "kernelspec": {
   "display_name": "TrendFlow",
   "language": "python",
   "name": "python3"
  },
  "language_info": {
   "codemirror_mode": {
    "name": "ipython",
    "version": 3
   },
   "file_extension": ".py",
   "mimetype": "text/x-python",
   "name": "python",
   "nbconvert_exporter": "python",
   "pygments_lexer": "ipython3",
   "version": "3.10.12"
  }
 },
 "nbformat": 4,
 "nbformat_minor": 2
}
